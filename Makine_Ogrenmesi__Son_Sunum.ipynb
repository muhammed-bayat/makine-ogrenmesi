{
  "nbformat": 4,
  "nbformat_minor": 0,
  "metadata": {
    "kernelspec": {
      "display_name": "Python 3",
      "language": "python",
      "name": "python3"
    },
    "language_info": {
      "codemirror_mode": {
        "name": "ipython",
        "version": 3
      },
      "file_extension": ".py",
      "mimetype": "text/x-python",
      "name": "python",
      "nbconvert_exporter": "python",
      "pygments_lexer": "ipython3",
      "version": "3.8.5"
    },
    "colab": {
      "name": "Makine_Ogrenmesi_-_Son_Sunum (1) (1).ipynb",
      "provenance": [],
      "include_colab_link": true
    }
  },
  "cells": [
    {
      "cell_type": "markdown",
      "metadata": {
        "id": "view-in-github",
        "colab_type": "text"
      },
      "source": [
        "<a href=\"https://colab.research.google.com/github/muhammed-bayat/makine-ogrenmesi/blob/main/Makine_Ogrenmesi__Son_Sunum.ipynb\" target=\"_parent\"><img src=\"https://colab.research.google.com/assets/colab-badge.svg\" alt=\"Open In Colab\"/></a>"
      ]
    },
    {
      "cell_type": "markdown",
      "metadata": {
        "id": "zKxbwADjaYi_"
      },
      "source": [
        "# Satranç Kazanan Tahmini\n",
        "\n",
        "##### İbrahim ŞENGÜN - Muhammed BAYAT\n",
        "\n",
        "## Problemin Türü\n",
        "Etiketlerimiz belli ve kategorik olduğu için Sınıflandırma Problemi.\n",
        "\n",
        "Açılış kodları --> https://www.365chess.com/eco.php\n",
        "\n",
        "## Veriseti\n",
        "* **id**: Oyun numarası, nümerik\n",
        "* **rated**: Değerlendime, kategorik\n",
        "* **created_at**: Başlangıç zamanı, nümerik\n",
        "* **last_move_at**: Bitiş zamanı, nümerik\n",
        "* **turns**: Hamle sayısı, nümerik\n",
        "* **victory_status**: Kazanan nasıl kazandı, kategorik\n",
        "* **winner**: Kazanan renk, kategorik\n",
        "* **increment_code**: Oyunun zaman türü, nümerik\n",
        "* **white_id**: Beyaz taşlarda ki oyuncunun numarası, nümerik\n",
        "* **black_id**: Siyah taşlarda ki oyuncunun numarası, nümerik\n",
        "* **white_rating**: Beyaz taşlarda ki oyuncunun puanı, nümerik\n",
        "* **black_rating**: Siyah taşlarda ki oyuncunun puanı, nümerik\n",
        "* **moves**: Hamleler, nümerik\n",
        "* **opening_eco**: Açılışın kodu, kategorik\n",
        "* **opening_name**: Açılışın ismi, kategorik\n",
        "* **opening_ply**: Açılış fazı kaç hamlede tamamlandı, nümerik\n",
        "\n",
        "## Karışıklık Matrisi\n",
        "\n",
        "**TP:** Kazanacak kişiye kazandı demek.\n",
        "\n",
        "**TN:** Kaybedecek kişiye kaybetti demek.\n",
        "\n",
        "**FP:** Kaybedecek kişiye kazandı demek.\n",
        "\n",
        "**FN:** Kazanacak kişiye kaybetti demek."
      ]
    },
    {
      "cell_type": "code",
      "metadata": {
        "colab": {
          "base_uri": "https://localhost:8080/"
        },
        "id": "1vxyWhXcalPy",
        "outputId": "1d9de6a7-d760-4a1b-f913-f8069d9ad1ba"
      },
      "source": [
        "from google.colab import drive\n",
        "drive.mount('/content/drive')"
      ],
      "execution_count": 5,
      "outputs": [
        {
          "output_type": "stream",
          "text": [
            "Drive already mounted at /content/drive; to attempt to forcibly remount, call drive.mount(\"/content/drive\", force_remount=True).\n"
          ],
          "name": "stdout"
        }
      ]
    },
    {
      "cell_type": "code",
      "metadata": {
        "colab": {
          "base_uri": "https://localhost:8080/",
          "height": 1000
        },
        "id": "bI7tfD4TaYjR",
        "outputId": "3c9a8d27-341c-4278-b998-0b65238854af"
      },
      "source": [
        "import numpy as np \n",
        "import pandas as pd\n",
        "\n",
        "import matplotlib.pyplot as plt\n",
        "import seaborn as sns\n",
        "\n",
        "from sklearn import preprocessing\n",
        "from sklearn.preprocessing import OneHotEncoder\n",
        "from sklearn.model_selection import train_test_split\n",
        "\n",
        "from sklearn import metrics\n",
        "from sklearn.metrics import accuracy_score\n",
        "from sklearn.metrics import f1_score\n",
        "from sklearn.metrics import classification_report, plot_confusion_matrix\n",
        "\n",
        "from sklearn.tree import DecisionTreeClassifier\n",
        "from sklearn.ensemble import RandomForestClassifier\n",
        "from sklearn.neighbors import KNeighborsClassifier\n",
        "from sklearn.svm import SVC\n",
        "\n",
        "import warnings\n",
        "warnings.simplefilter(\"ignore\")\n",
        "\n",
        "df = pd.read_csv('/content/drive/MyDrive/Colab/ChessGameDataset/games.csv')\n",
        "df.head()"
      ],
      "execution_count": 6,
      "outputs": [
        {
          "output_type": "execute_result",
          "data": {
            "text/html": [
              "<div>\n",
              "<style scoped>\n",
              "    .dataframe tbody tr th:only-of-type {\n",
              "        vertical-align: middle;\n",
              "    }\n",
              "\n",
              "    .dataframe tbody tr th {\n",
              "        vertical-align: top;\n",
              "    }\n",
              "\n",
              "    .dataframe thead th {\n",
              "        text-align: right;\n",
              "    }\n",
              "</style>\n",
              "<table border=\"1\" class=\"dataframe\">\n",
              "  <thead>\n",
              "    <tr style=\"text-align: right;\">\n",
              "      <th></th>\n",
              "      <th>id</th>\n",
              "      <th>rated</th>\n",
              "      <th>created_at</th>\n",
              "      <th>last_move_at</th>\n",
              "      <th>turns</th>\n",
              "      <th>victory_status</th>\n",
              "      <th>winner</th>\n",
              "      <th>increment_code</th>\n",
              "      <th>white_id</th>\n",
              "      <th>white_rating</th>\n",
              "      <th>black_id</th>\n",
              "      <th>black_rating</th>\n",
              "      <th>moves</th>\n",
              "      <th>opening_eco</th>\n",
              "      <th>opening_name</th>\n",
              "      <th>opening_ply</th>\n",
              "    </tr>\n",
              "  </thead>\n",
              "  <tbody>\n",
              "    <tr>\n",
              "      <th>0</th>\n",
              "      <td>TZJHLljE</td>\n",
              "      <td>False</td>\n",
              "      <td>1.504210e+12</td>\n",
              "      <td>1.504210e+12</td>\n",
              "      <td>13</td>\n",
              "      <td>outoftime</td>\n",
              "      <td>white</td>\n",
              "      <td>15+2</td>\n",
              "      <td>bourgris</td>\n",
              "      <td>1500</td>\n",
              "      <td>a-00</td>\n",
              "      <td>1191</td>\n",
              "      <td>d4 d5 c4 c6 cxd5 e6 dxe6 fxe6 Nf3 Bb4+ Nc3 Ba5...</td>\n",
              "      <td>D10</td>\n",
              "      <td>Slav Defense: Exchange Variation</td>\n",
              "      <td>5</td>\n",
              "    </tr>\n",
              "    <tr>\n",
              "      <th>1</th>\n",
              "      <td>l1NXvwaE</td>\n",
              "      <td>True</td>\n",
              "      <td>1.504130e+12</td>\n",
              "      <td>1.504130e+12</td>\n",
              "      <td>16</td>\n",
              "      <td>resign</td>\n",
              "      <td>black</td>\n",
              "      <td>5+10</td>\n",
              "      <td>a-00</td>\n",
              "      <td>1322</td>\n",
              "      <td>skinnerua</td>\n",
              "      <td>1261</td>\n",
              "      <td>d4 Nc6 e4 e5 f4 f6 dxe5 fxe5 fxe5 Nxe5 Qd4 Nc6...</td>\n",
              "      <td>B00</td>\n",
              "      <td>Nimzowitsch Defense: Kennedy Variation</td>\n",
              "      <td>4</td>\n",
              "    </tr>\n",
              "    <tr>\n",
              "      <th>2</th>\n",
              "      <td>mIICvQHh</td>\n",
              "      <td>True</td>\n",
              "      <td>1.504130e+12</td>\n",
              "      <td>1.504130e+12</td>\n",
              "      <td>61</td>\n",
              "      <td>mate</td>\n",
              "      <td>white</td>\n",
              "      <td>5+10</td>\n",
              "      <td>ischia</td>\n",
              "      <td>1496</td>\n",
              "      <td>a-00</td>\n",
              "      <td>1500</td>\n",
              "      <td>e4 e5 d3 d6 Be3 c6 Be2 b5 Nd2 a5 a4 c5 axb5 Nc...</td>\n",
              "      <td>C20</td>\n",
              "      <td>King's Pawn Game: Leonardis Variation</td>\n",
              "      <td>3</td>\n",
              "    </tr>\n",
              "    <tr>\n",
              "      <th>3</th>\n",
              "      <td>kWKvrqYL</td>\n",
              "      <td>True</td>\n",
              "      <td>1.504110e+12</td>\n",
              "      <td>1.504110e+12</td>\n",
              "      <td>61</td>\n",
              "      <td>mate</td>\n",
              "      <td>white</td>\n",
              "      <td>20+0</td>\n",
              "      <td>daniamurashov</td>\n",
              "      <td>1439</td>\n",
              "      <td>adivanov2009</td>\n",
              "      <td>1454</td>\n",
              "      <td>d4 d5 Nf3 Bf5 Nc3 Nf6 Bf4 Ng4 e3 Nc6 Be2 Qd7 O...</td>\n",
              "      <td>D02</td>\n",
              "      <td>Queen's Pawn Game: Zukertort Variation</td>\n",
              "      <td>3</td>\n",
              "    </tr>\n",
              "    <tr>\n",
              "      <th>4</th>\n",
              "      <td>9tXo1AUZ</td>\n",
              "      <td>True</td>\n",
              "      <td>1.504030e+12</td>\n",
              "      <td>1.504030e+12</td>\n",
              "      <td>95</td>\n",
              "      <td>mate</td>\n",
              "      <td>white</td>\n",
              "      <td>30+3</td>\n",
              "      <td>nik221107</td>\n",
              "      <td>1523</td>\n",
              "      <td>adivanov2009</td>\n",
              "      <td>1469</td>\n",
              "      <td>e4 e5 Nf3 d6 d4 Nc6 d5 Nb4 a3 Na6 Nc3 Be7 b4 N...</td>\n",
              "      <td>C41</td>\n",
              "      <td>Philidor Defense</td>\n",
              "      <td>5</td>\n",
              "    </tr>\n",
              "  </tbody>\n",
              "</table>\n",
              "</div>"
            ],
            "text/plain": [
              "         id  rated  ...                            opening_name  opening_ply\n",
              "0  TZJHLljE  False  ...        Slav Defense: Exchange Variation            5\n",
              "1  l1NXvwaE   True  ...  Nimzowitsch Defense: Kennedy Variation            4\n",
              "2  mIICvQHh   True  ...   King's Pawn Game: Leonardis Variation            3\n",
              "3  kWKvrqYL   True  ...  Queen's Pawn Game: Zukertort Variation            3\n",
              "4  9tXo1AUZ   True  ...                        Philidor Defense            5\n",
              "\n",
              "[5 rows x 16 columns]"
            ]
          },
          "metadata": {
            "tags": []
          },
          "execution_count": 6
        }
      ]
    },
    {
      "cell_type": "code",
      "metadata": {
        "colab": {
          "base_uri": "https://localhost:8080/"
        },
        "id": "AuSUGr-PaYjU",
        "outputId": "5132cc9e-9122-4c96-fec4-8a3c2adf2e23"
      },
      "source": [
        "df.isnull().sum()"
      ],
      "execution_count": 7,
      "outputs": [
        {
          "output_type": "execute_result",
          "data": {
            "text/plain": [
              "id                0\n",
              "rated             0\n",
              "created_at        0\n",
              "last_move_at      0\n",
              "turns             0\n",
              "victory_status    0\n",
              "winner            0\n",
              "increment_code    0\n",
              "white_id          0\n",
              "white_rating      0\n",
              "black_id          0\n",
              "black_rating      0\n",
              "moves             0\n",
              "opening_eco       0\n",
              "opening_name      0\n",
              "opening_ply       0\n",
              "dtype: int64"
            ]
          },
          "metadata": {
            "tags": []
          },
          "execution_count": 7
        }
      ]
    },
    {
      "cell_type": "code",
      "metadata": {
        "colab": {
          "base_uri": "https://localhost:8080/",
          "height": 333
        },
        "id": "gdouhkrDaYjW",
        "outputId": "519091b3-fb12-46a1-dc32-c5cd88b312c3"
      },
      "source": [
        "plt.hist(df['winner'])"
      ],
      "execution_count": 8,
      "outputs": [
        {
          "output_type": "execute_result",
          "data": {
            "text/plain": [
              "(array([10001.,     0.,     0.,     0.,     0.,  9107.,     0.,     0.,\n",
              "            0.,   950.]),\n",
              " array([0. , 0.2, 0.4, 0.6, 0.8, 1. , 1.2, 1.4, 1.6, 1.8, 2. ]),\n",
              " <a list of 10 Patch objects>)"
            ]
          },
          "metadata": {
            "tags": []
          },
          "execution_count": 8
        },
        {
          "output_type": "display_data",
          "data": {
            "image/png": "[encoded data removed]",
            "text/plain": [
              "<Figure size 432x288 with 1 Axes>"
            ]
          },
          "metadata": {
            "tags": [],
            "needs_background": "light"
          }
        }
      ]
    },
    {
      "cell_type": "code",
      "metadata": {
        "colab": {
          "base_uri": "https://localhost:8080/",
          "height": 295
        },
        "id": "nyq_lw5RaYjX",
        "outputId": "7b9112b0-0981-4a93-919d-584a691e5700"
      },
      "source": [
        "ax = sns.countplot( x = 'winner', hue = 'victory_status', data = df)\n",
        "ax_attr = ax.set(xlabel = 'Kazanan', title = 'Kazanma Durumu Dağılımı')"
      ],
      "execution_count": 9,
      "outputs": [
        {
          "output_type": "display_data",
          "data": {
            "image/png": "[encoded data removed]",
            "text/plain": [
              "<Figure size 432x288 with 1 Axes>"
            ]
          },
          "metadata": {
            "tags": [],
            "needs_background": "light"
          }
        }
      ]
    },
    {
      "cell_type": "markdown",
      "metadata": {
        "id": "fxs7xL0-aYjX"
      },
      "source": [
        "* **outoftime:** Rakibin süresi dolması sonucu kazanmak.\n",
        "* **resign:** Rakibin oyunu terk etmesi sonucu kazanmak.\n",
        "* **mate:** Rakibi mat ederek kazanmak.\n",
        "* **draw:** Berabere.\n",
        "\n",
        "Oyunların büyük çoğunluğu bir tarafın oyunu terk etmesi ile sonuçlanıyor. Hemen arkasında ise mat sonucunda kazanmak geliyor. Beraberlik ise daha nadir gerçekleşen bir olay.\n",
        "\n",
        "**Dipnot:** draw' durumunda 'outoftime' olma ihtimali düşüktür. Bu ihtimalin gerçekleşmesi için bir oyuncu belirlenen süre içinde belirlenen hamle sayısını tamamlamazsa, oyun oyuncu tarafından kaybedilir. Ancak oyun eğer pozisyon rakip oyuncunun şahını olası herhangi bir yasal hamle dizisi ile mat edemeyecek şekilde ise berabere biter."
      ]
    },
    {
      "cell_type": "code",
      "metadata": {
        "colab": {
          "base_uri": "https://localhost:8080/",
          "height": 355
        },
        "id": "7bO79QWgaYjX",
        "outputId": "4ec40457-3368-46e0-dd35-146eeb782419"
      },
      "source": [
        "df[\"rating_diff\"] = abs(df['white_rating'] - df['black_rating'])\n",
        "\n",
        "ax = pd.cut(df[\"rating_diff\"], 15, precision = 0).value_counts().sort_index().plot.bar()\n",
        "ax_attr = ax.set(title = \"Rakipler Arasındaki Derece Farkı\")"
      ],
      "execution_count": 10,
      "outputs": [
        {
          "output_type": "display_data",
          "data": {
            "image/png": "[encoded data removed]",
            "text/plain": [
              "<Figure size 432x288 with 1 Axes>"
            ]
          },
          "metadata": {
            "tags": [],
            "needs_background": "light"
          }
        }
      ]
    },
    {
      "cell_type": "code",
      "metadata": {
        "colab": {
          "base_uri": "https://localhost:8080/"
        },
        "id": "cQjzfAo5aYjY",
        "outputId": "5774687a-76ca-4765-b6f5-3d4f4c0e962e"
      },
      "source": [
        "print(\"Ortalama Derece Farkı:\" ,round(df['rating_diff'].mean(), 3))\n",
        "print(\"En Yüksek Derece Farkı:\" ,df['rating_diff'].max())\n",
        "print(\"En Düşük Derece Farkı:\" ,df['rating_diff'].min())"
      ],
      "execution_count": 11,
      "outputs": [
        {
          "output_type": "stream",
          "text": [
            "Ortalama Derece Farkı: 173.091\n",
            "En Yüksek Derece Farkı: 1605\n",
            "En Düşük Derece Farkı: 0\n"
          ],
          "name": "stdout"
        }
      ]
    },
    {
      "cell_type": "code",
      "metadata": {
        "colab": {
          "base_uri": "https://localhost:8080/",
          "height": 404
        },
        "id": "LtOYOmxDaYjZ",
        "outputId": "5aea77cc-4dc2-46d3-a6bf-105769de898e"
      },
      "source": [
        "a4_dims = (21, 6)\n",
        "fig, ax = plt.subplots(1,2,figsize=a4_dims)\n",
        "sns.distplot(df['white_rating'], bins = 30, ax = ax[0])\n",
        "\n",
        "sns.distplot(df['black_rating'], bins = 30, ax = ax[1])\n",
        "\n",
        "ax_attr = ax[0].set(title = \"Beyaz Oyuncunun Derece Dağılımı\")\n",
        "ax_attr = ax[1].set(title = \"Siyah Oyuncunun Derece Dağılımı\")"
      ],
      "execution_count": 12,
      "outputs": [
        {
          "output_type": "display_data",
          "data": {
            "image/png": "[encoded data removed]",
            "text/plain": [
              "<Figure size 1512x432 with 2 Axes>"
            ]
          },
          "metadata": {
            "tags": [],
            "needs_background": "light"
          }
        }
      ]
    },
    {
      "cell_type": "code",
      "metadata": {
        "colab": {
          "base_uri": "https://localhost:8080/"
        },
        "id": "E55U1u4yaYja",
        "outputId": "95abadea-5647-44ab-8065-0a3b775ec1a0"
      },
      "source": [
        "print('Beyaz oyuncunun ortalama derecesi:',df['white_rating'].mean())\n",
        "print('Siyah oyuncunun ortalama derecesi:',df['black_rating'].mean())"
      ],
      "execution_count": 13,
      "outputs": [
        {
          "output_type": "stream",
          "text": [
            "Beyaz oyuncunun ortalama derecesi: 1596.6318675840064\n",
            "Siyah oyuncunun ortalama derecesi: 1588.8319872370128\n"
          ],
          "name": "stdout"
        }
      ]
    },
    {
      "cell_type": "markdown",
      "metadata": {
        "id": "BQJFxoe1aYjb"
      },
      "source": [
        "## Veri İşleme\n",
        "*id*, *white_id*, *black_id* önemsiz veriler.\n",
        "\n",
        "*created_at* ve *last_move_at* verilerinde de bir dengesizlik var. *created_at* oyunun başlama zamanı, *last_move_at* oyunun bitiş zamanını veriyor. Mantık olarak *last_move_at* - *created_at* farkı bize oyunun ne kadar sürdüğünü vermesi gerekir. Ancak birçok oyunda bu fark *0* oluyor. Bundan dolayı bu veriler de önemsiz verileri arasına giriyor."
      ]
    },
    {
      "cell_type": "code",
      "metadata": {
        "colab": {
          "base_uri": "https://localhost:8080/"
        },
        "id": "GE7WeS_gaYjc",
        "outputId": "e25aa6c5-2c23-42c1-c064-b4e5366e9f5e"
      },
      "source": [
        "duration = df[df['last_move_at']-df['created_at'] == 0].shape[0]\n",
        "print(\"Oyun süresi 0 olan oyun sayısı:\", duration, \"ki bu da yaklaşık olarak tüm oyunların yüzde\", round(duration/df.shape[0],2)*100, \"denk geliyor\")"
      ],
      "execution_count": 14,
      "outputs": [
        {
          "output_type": "stream",
          "text": [
            "Oyun süresi 0 olan oyun sayısı: 8548 ki bu da yaklaşık olarak tüm oyunların yüzde 43.0 denk geliyor\n"
          ],
          "name": "stdout"
        }
      ]
    },
    {
      "cell_type": "markdown",
      "metadata": {
        "id": "lMPkynsjaYje"
      },
      "source": [
        "Bu yüzden *id*, *white_id*, *black_id*, *created_at* ve *last_move_at* verilerini çıkarıyoruz"
      ]
    },
    {
      "cell_type": "code",
      "metadata": {
        "id": "lp7H5JdPaYjf"
      },
      "source": [
        "#Kullanacağımız veriler\n",
        "X = df.filter(items=['increment_code', 'opening_eco', 'opening_name', 'rated', 'victory_status', 'turns', 'white_rating', 'black_rating', 'opening_ply', 'rating_diff'])\n",
        "y = df.filter(items=['winner'])"
      ],
      "execution_count": 15,
      "outputs": []
    },
    {
      "cell_type": "code",
      "metadata": {
        "colab": {
          "base_uri": "https://localhost:8080/",
          "height": 419
        },
        "id": "XtPe1Ex6aYjf",
        "outputId": "3a90a2cc-e796-4c99-e11b-5fd7e4a8fd6f"
      },
      "source": [
        "X"
      ],
      "execution_count": 16,
      "outputs": [
        {
          "output_type": "execute_result",
          "data": {
            "text/html": [
              "<div>\n",
              "<style scoped>\n",
              "    .dataframe tbody tr th:only-of-type {\n",
              "        vertical-align: middle;\n",
              "    }\n",
              "\n",
              "    .dataframe tbody tr th {\n",
              "        vertical-align: top;\n",
              "    }\n",
              "\n",
              "    .dataframe thead th {\n",
              "        text-align: right;\n",
              "    }\n",
              "</style>\n",
              "<table border=\"1\" class=\"dataframe\">\n",
              "  <thead>\n",
              "    <tr style=\"text-align: right;\">\n",
              "      <th></th>\n",
              "      <th>increment_code</th>\n",
              "      <th>opening_eco</th>\n",
              "      <th>opening_name</th>\n",
              "      <th>rated</th>\n",
              "      <th>victory_status</th>\n",
              "      <th>turns</th>\n",
              "      <th>white_rating</th>\n",
              "      <th>black_rating</th>\n",
              "      <th>opening_ply</th>\n",
              "      <th>rating_diff</th>\n",
              "    </tr>\n",
              "  </thead>\n",
              "  <tbody>\n",
              "    <tr>\n",
              "      <th>0</th>\n",
              "      <td>15+2</td>\n",
              "      <td>D10</td>\n",
              "      <td>Slav Defense: Exchange Variation</td>\n",
              "      <td>False</td>\n",
              "      <td>outoftime</td>\n",
              "      <td>13</td>\n",
              "      <td>1500</td>\n",
              "      <td>1191</td>\n",
              "      <td>5</td>\n",
              "      <td>309</td>\n",
              "    </tr>\n",
              "    <tr>\n",
              "      <th>1</th>\n",
              "      <td>5+10</td>\n",
              "      <td>B00</td>\n",
              "      <td>Nimzowitsch Defense: Kennedy Variation</td>\n",
              "      <td>True</td>\n",
              "      <td>resign</td>\n",
              "      <td>16</td>\n",
              "      <td>1322</td>\n",
              "      <td>1261</td>\n",
              "      <td>4</td>\n",
              "      <td>61</td>\n",
              "    </tr>\n",
              "    <tr>\n",
              "      <th>2</th>\n",
              "      <td>5+10</td>\n",
              "      <td>C20</td>\n",
              "      <td>King's Pawn Game: Leonardis Variation</td>\n",
              "      <td>True</td>\n",
              "      <td>mate</td>\n",
              "      <td>61</td>\n",
              "      <td>1496</td>\n",
              "      <td>1500</td>\n",
              "      <td>3</td>\n",
              "      <td>4</td>\n",
              "    </tr>\n",
              "    <tr>\n",
              "      <th>3</th>\n",
              "      <td>20+0</td>\n",
              "      <td>D02</td>\n",
              "      <td>Queen's Pawn Game: Zukertort Variation</td>\n",
              "      <td>True</td>\n",
              "      <td>mate</td>\n",
              "      <td>61</td>\n",
              "      <td>1439</td>\n",
              "      <td>1454</td>\n",
              "      <td>3</td>\n",
              "      <td>15</td>\n",
              "    </tr>\n",
              "    <tr>\n",
              "      <th>4</th>\n",
              "      <td>30+3</td>\n",
              "      <td>C41</td>\n",
              "      <td>Philidor Defense</td>\n",
              "      <td>True</td>\n",
              "      <td>mate</td>\n",
              "      <td>95</td>\n",
              "      <td>1523</td>\n",
              "      <td>1469</td>\n",
              "      <td>5</td>\n",
              "      <td>54</td>\n",
              "    </tr>\n",
              "    <tr>\n",
              "      <th>...</th>\n",
              "      <td>...</td>\n",
              "      <td>...</td>\n",
              "      <td>...</td>\n",
              "      <td>...</td>\n",
              "      <td>...</td>\n",
              "      <td>...</td>\n",
              "      <td>...</td>\n",
              "      <td>...</td>\n",
              "      <td>...</td>\n",
              "      <td>...</td>\n",
              "    </tr>\n",
              "    <tr>\n",
              "      <th>20053</th>\n",
              "      <td>10+10</td>\n",
              "      <td>A80</td>\n",
              "      <td>Dutch Defense</td>\n",
              "      <td>True</td>\n",
              "      <td>resign</td>\n",
              "      <td>24</td>\n",
              "      <td>1691</td>\n",
              "      <td>1220</td>\n",
              "      <td>2</td>\n",
              "      <td>471</td>\n",
              "    </tr>\n",
              "    <tr>\n",
              "      <th>20054</th>\n",
              "      <td>10+0</td>\n",
              "      <td>A41</td>\n",
              "      <td>Queen's Pawn</td>\n",
              "      <td>True</td>\n",
              "      <td>mate</td>\n",
              "      <td>82</td>\n",
              "      <td>1233</td>\n",
              "      <td>1196</td>\n",
              "      <td>2</td>\n",
              "      <td>37</td>\n",
              "    </tr>\n",
              "    <tr>\n",
              "      <th>20055</th>\n",
              "      <td>10+0</td>\n",
              "      <td>D00</td>\n",
              "      <td>Queen's Pawn Game: Mason Attack</td>\n",
              "      <td>True</td>\n",
              "      <td>mate</td>\n",
              "      <td>35</td>\n",
              "      <td>1219</td>\n",
              "      <td>1286</td>\n",
              "      <td>3</td>\n",
              "      <td>67</td>\n",
              "    </tr>\n",
              "    <tr>\n",
              "      <th>20056</th>\n",
              "      <td>10+0</td>\n",
              "      <td>B07</td>\n",
              "      <td>Pirc Defense</td>\n",
              "      <td>True</td>\n",
              "      <td>resign</td>\n",
              "      <td>109</td>\n",
              "      <td>1360</td>\n",
              "      <td>1227</td>\n",
              "      <td>4</td>\n",
              "      <td>133</td>\n",
              "    </tr>\n",
              "    <tr>\n",
              "      <th>20057</th>\n",
              "      <td>10+0</td>\n",
              "      <td>D00</td>\n",
              "      <td>Queen's Pawn Game: Mason Attack</td>\n",
              "      <td>True</td>\n",
              "      <td>mate</td>\n",
              "      <td>78</td>\n",
              "      <td>1235</td>\n",
              "      <td>1339</td>\n",
              "      <td>3</td>\n",
              "      <td>104</td>\n",
              "    </tr>\n",
              "  </tbody>\n",
              "</table>\n",
              "<p>20058 rows × 10 columns</p>\n",
              "</div>"
            ],
            "text/plain": [
              "      increment_code opening_eco  ... opening_ply  rating_diff\n",
              "0               15+2         D10  ...           5          309\n",
              "1               5+10         B00  ...           4           61\n",
              "2               5+10         C20  ...           3            4\n",
              "3               20+0         D02  ...           3           15\n",
              "4               30+3         C41  ...           5           54\n",
              "...              ...         ...  ...         ...          ...\n",
              "20053          10+10         A80  ...           2          471\n",
              "20054           10+0         A41  ...           2           37\n",
              "20055           10+0         D00  ...           3           67\n",
              "20056           10+0         B07  ...           4          133\n",
              "20057           10+0         D00  ...           3          104\n",
              "\n",
              "[20058 rows x 10 columns]"
            ]
          },
          "metadata": {
            "tags": []
          },
          "execution_count": 16
        }
      ]
    },
    {
      "cell_type": "code",
      "metadata": {
        "colab": {
          "base_uri": "https://localhost:8080/",
          "height": 419
        },
        "id": "IVE3XkOnaYjf",
        "outputId": "a755be30-865a-4095-b47f-3ce6847826b9"
      },
      "source": [
        "#String verileri nümerik formata dönüştürüyoruz\n",
        "label_encoder = preprocessing.LabelEncoder()  \n",
        "X = X.apply(label_encoder.fit_transform)\n",
        "\n",
        "X"
      ],
      "execution_count": 17,
      "outputs": [
        {
          "output_type": "execute_result",
          "data": {
            "text/html": [
              "<div>\n",
              "<style scoped>\n",
              "    .dataframe tbody tr th:only-of-type {\n",
              "        vertical-align: middle;\n",
              "    }\n",
              "\n",
              "    .dataframe tbody tr th {\n",
              "        vertical-align: top;\n",
              "    }\n",
              "\n",
              "    .dataframe thead th {\n",
              "        text-align: right;\n",
              "    }\n",
              "</style>\n",
              "<table border=\"1\" class=\"dataframe\">\n",
              "  <thead>\n",
              "    <tr style=\"text-align: right;\">\n",
              "      <th></th>\n",
              "      <th>increment_code</th>\n",
              "      <th>opening_eco</th>\n",
              "      <th>opening_name</th>\n",
              "      <th>rated</th>\n",
              "      <th>victory_status</th>\n",
              "      <th>turns</th>\n",
              "      <th>white_rating</th>\n",
              "      <th>black_rating</th>\n",
              "      <th>opening_ply</th>\n",
              "      <th>rating_diff</th>\n",
              "    </tr>\n",
              "  </thead>\n",
              "  <tbody>\n",
              "    <tr>\n",
              "      <th>0</th>\n",
              "      <td>110</td>\n",
              "      <td>248</td>\n",
              "      <td>1387</td>\n",
              "      <td>0</td>\n",
              "      <td>2</td>\n",
              "      <td>12</td>\n",
              "      <td>616</td>\n",
              "      <td>318</td>\n",
              "      <td>4</td>\n",
              "      <td>309</td>\n",
              "    </tr>\n",
              "    <tr>\n",
              "      <th>1</th>\n",
              "      <td>298</td>\n",
              "      <td>71</td>\n",
              "      <td>750</td>\n",
              "      <td>1</td>\n",
              "      <td>3</td>\n",
              "      <td>15</td>\n",
              "      <td>438</td>\n",
              "      <td>388</td>\n",
              "      <td>3</td>\n",
              "      <td>61</td>\n",
              "    </tr>\n",
              "    <tr>\n",
              "      <th>2</th>\n",
              "      <td>298</td>\n",
              "      <td>171</td>\n",
              "      <td>650</td>\n",
              "      <td>1</td>\n",
              "      <td>1</td>\n",
              "      <td>60</td>\n",
              "      <td>612</td>\n",
              "      <td>627</td>\n",
              "      <td>2</td>\n",
              "      <td>4</td>\n",
              "    </tr>\n",
              "    <tr>\n",
              "      <th>3</th>\n",
              "      <td>187</td>\n",
              "      <td>241</td>\n",
              "      <td>992</td>\n",
              "      <td>1</td>\n",
              "      <td>1</td>\n",
              "      <td>60</td>\n",
              "      <td>555</td>\n",
              "      <td>581</td>\n",
              "      <td>2</td>\n",
              "      <td>15</td>\n",
              "    </tr>\n",
              "    <tr>\n",
              "      <th>4</th>\n",
              "      <td>247</td>\n",
              "      <td>192</td>\n",
              "      <td>783</td>\n",
              "      <td>1</td>\n",
              "      <td>1</td>\n",
              "      <td>94</td>\n",
              "      <td>639</td>\n",
              "      <td>596</td>\n",
              "      <td>4</td>\n",
              "      <td>54</td>\n",
              "    </tr>\n",
              "    <tr>\n",
              "      <th>...</th>\n",
              "      <td>...</td>\n",
              "      <td>...</td>\n",
              "      <td>...</td>\n",
              "      <td>...</td>\n",
              "      <td>...</td>\n",
              "      <td>...</td>\n",
              "      <td>...</td>\n",
              "      <td>...</td>\n",
              "      <td>...</td>\n",
              "      <td>...</td>\n",
              "    </tr>\n",
              "    <tr>\n",
              "      <th>20053</th>\n",
              "      <td>21</td>\n",
              "      <td>61</td>\n",
              "      <td>191</td>\n",
              "      <td>1</td>\n",
              "      <td>3</td>\n",
              "      <td>23</td>\n",
              "      <td>807</td>\n",
              "      <td>347</td>\n",
              "      <td>1</td>\n",
              "      <td>471</td>\n",
              "    </tr>\n",
              "    <tr>\n",
              "      <th>20054</th>\n",
              "      <td>19</td>\n",
              "      <td>37</td>\n",
              "      <td>960</td>\n",
              "      <td>1</td>\n",
              "      <td>1</td>\n",
              "      <td>81</td>\n",
              "      <td>349</td>\n",
              "      <td>323</td>\n",
              "      <td>1</td>\n",
              "      <td>37</td>\n",
              "    </tr>\n",
              "    <tr>\n",
              "      <th>20055</th>\n",
              "      <td>19</td>\n",
              "      <td>239</td>\n",
              "      <td>977</td>\n",
              "      <td>1</td>\n",
              "      <td>1</td>\n",
              "      <td>34</td>\n",
              "      <td>335</td>\n",
              "      <td>413</td>\n",
              "      <td>2</td>\n",
              "      <td>67</td>\n",
              "    </tr>\n",
              "    <tr>\n",
              "      <th>20056</th>\n",
              "      <td>19</td>\n",
              "      <td>78</td>\n",
              "      <td>806</td>\n",
              "      <td>1</td>\n",
              "      <td>3</td>\n",
              "      <td>108</td>\n",
              "      <td>476</td>\n",
              "      <td>354</td>\n",
              "      <td>3</td>\n",
              "      <td>133</td>\n",
              "    </tr>\n",
              "    <tr>\n",
              "      <th>20057</th>\n",
              "      <td>19</td>\n",
              "      <td>239</td>\n",
              "      <td>977</td>\n",
              "      <td>1</td>\n",
              "      <td>1</td>\n",
              "      <td>77</td>\n",
              "      <td>351</td>\n",
              "      <td>466</td>\n",
              "      <td>2</td>\n",
              "      <td>104</td>\n",
              "    </tr>\n",
              "  </tbody>\n",
              "</table>\n",
              "<p>20058 rows × 10 columns</p>\n",
              "</div>"
            ],
            "text/plain": [
              "       increment_code  opening_eco  ...  opening_ply  rating_diff\n",
              "0                 110          248  ...            4          309\n",
              "1                 298           71  ...            3           61\n",
              "2                 298          171  ...            2            4\n",
              "3                 187          241  ...            2           15\n",
              "4                 247          192  ...            4           54\n",
              "...               ...          ...  ...          ...          ...\n",
              "20053              21           61  ...            1          471\n",
              "20054              19           37  ...            1           37\n",
              "20055              19          239  ...            2           67\n",
              "20056              19           78  ...            3          133\n",
              "20057              19          239  ...            2          104\n",
              "\n",
              "[20058 rows x 10 columns]"
            ]
          },
          "metadata": {
            "tags": []
          },
          "execution_count": 17
        }
      ]
    },
    {
      "cell_type": "code",
      "metadata": {
        "id": "t4-5go--aYjg"
      },
      "source": [
        "#Nümerik verilerimize 0-1 arasında değerler atıyoruz\n",
        "X = preprocessing.normalize(X)"
      ],
      "execution_count": 18,
      "outputs": []
    },
    {
      "cell_type": "code",
      "metadata": {
        "colab": {
          "base_uri": "https://localhost:8080/"
        },
        "id": "mlKKAU9aaYjg",
        "outputId": "7c095569-67bd-4307-8ac6-323505d4f241"
      },
      "source": [
        "X"
      ],
      "execution_count": 19,
      "outputs": [
        {
          "output_type": "execute_result",
          "data": {
            "text/plain": [
              "array([[0.06856813, 0.15458997, 0.86458183, ..., 0.19822424, 0.00249339,\n",
              "        0.19261412],\n",
              "       [0.29759881, 0.07090441, 0.74899029, ..., 0.38747764, 0.00299596,\n",
              "        0.06091788],\n",
              "       [0.26018115, 0.14929858, 0.56750922, ..., 0.54742813, 0.00174618,\n",
              "        0.00349236],\n",
              "       ...,\n",
              "       [0.01666118, 0.20958011, 0.85673544, ..., 0.36216145, 0.00175381,\n",
              "        0.05875258],\n",
              "       [0.01865486, 0.07658311, 0.79135879, ..., 0.3475695 , 0.0029455 ,\n",
              "        0.13058402],\n",
              "       [0.01623802, 0.20425717, 0.83497595, ..., 0.39825874, 0.00170926,\n",
              "        0.08888178]])"
            ]
          },
          "metadata": {
            "tags": []
          },
          "execution_count": 19
        }
      ]
    },
    {
      "cell_type": "code",
      "metadata": {
        "id": "9icXcNcRaYjg"
      },
      "source": [
        "#train ve test verilerini ayırıyoruz\n",
        "x_train,x_test,y_train,y_test=train_test_split(X,y,test_size=0.20)"
      ],
      "execution_count": 20,
      "outputs": []
    },
    {
      "cell_type": "code",
      "metadata": {
        "id": "8DUF9BCoaYjg"
      },
      "source": [
        "#Kullanacağımız yöntemler\n",
        "names = [\"Nearest_Neighbors\", \"Linear_SVM\", \"Decision_Tree\", \"Random_Forest\"]\n",
        "\n",
        "classifiers = [\n",
        "    KNeighborsClassifier(3),\n",
        "    SVC(kernel=\"linear\", C=0.025),\n",
        "    DecisionTreeClassifier(),\n",
        "    RandomForestClassifier()]"
      ],
      "execution_count": 21,
      "outputs": []
    },
    {
      "cell_type": "code",
      "metadata": {
        "id": "8zSYkySnaYjh"
      },
      "source": [
        "#\n",
        "f1_scores = []\n",
        "acc_scores = []\n",
        "for name, clf in zip(names, classifiers):\n",
        "    clf.fit(x_train, y_train)\n",
        "    y_pred = clf.predict(x_test)\n",
        "    \n",
        "    f1s = f1_score(y_test, y_pred, average='macro')\n",
        "    acc = accuracy_score(y_test, y_pred)\n",
        "    \n",
        "    f1_scores.append(f1s)\n",
        "    acc_scores.append(acc)"
      ],
      "execution_count": 22,
      "outputs": []
    },
    {
      "cell_type": "code",
      "metadata": {
        "id": "-TdwvSa3aYjh"
      },
      "source": [
        "results = pd.DataFrame()\n",
        "results['name'] = names\n",
        "results['f1_score'] = f1_scores\n",
        "results['accuracy_score'] = acc_scores"
      ],
      "execution_count": 23,
      "outputs": []
    },
    {
      "cell_type": "code",
      "metadata": {
        "colab": {
          "base_uri": "https://localhost:8080/",
          "height": 124
        },
        "id": "JAYwmbtBaYjh",
        "outputId": "aec8ceff-cec0-4074-94d7-4eff8aca5900"
      },
      "source": [
        "cm = sns.light_palette(\"green\", as_cmap=True)\n",
        "s = results.style.background_gradient(cmap=cm)\n",
        "s"
      ],
      "execution_count": 24,
      "outputs": [
        {
          "output_type": "execute_result",
          "data": {
            "text/html": [
              "<style  type=\"text/css\" >\n",
              "#T_8e90ffe2_5197_11eb_9deb_0242ac1c0002row0_col1{\n",
              "            background-color:  #cde5cd;\n",
              "            color:  #000000;\n",
              "        }#T_8e90ffe2_5197_11eb_9deb_0242ac1c0002row0_col2{\n",
              "            background-color:  #e4f0e4;\n",
              "            color:  #000000;\n",
              "        }#T_8e90ffe2_5197_11eb_9deb_0242ac1c0002row1_col1,#T_8e90ffe2_5197_11eb_9deb_0242ac1c0002row1_col2{\n",
              "            background-color:  #ebf3eb;\n",
              "            color:  #000000;\n",
              "        }#T_8e90ffe2_5197_11eb_9deb_0242ac1c0002row2_col1{\n",
              "            background-color:  #1d8e1d;\n",
              "            color:  #000000;\n",
              "        }#T_8e90ffe2_5197_11eb_9deb_0242ac1c0002row2_col2{\n",
              "            background-color:  #95c995;\n",
              "            color:  #000000;\n",
              "        }#T_8e90ffe2_5197_11eb_9deb_0242ac1c0002row3_col1,#T_8e90ffe2_5197_11eb_9deb_0242ac1c0002row3_col2{\n",
              "            background-color:  #008000;\n",
              "            color:  #f1f1f1;\n",
              "        }</style><table id=\"T_8e90ffe2_5197_11eb_9deb_0242ac1c0002\" ><thead>    <tr>        <th class=\"blank level0\" ></th>        <th class=\"col_heading level0 col0\" >name</th>        <th class=\"col_heading level0 col1\" >f1_score</th>        <th class=\"col_heading level0 col2\" >accuracy_score</th>    </tr></thead><tbody>\n",
              "                <tr>\n",
              "                        <th id=\"T_8e90ffe2_5197_11eb_9deb_0242ac1c0002level0_row0\" class=\"row_heading level0 row0\" >0</th>\n",
              "                        <td id=\"T_8e90ffe2_5197_11eb_9deb_0242ac1c0002row0_col0\" class=\"data row0 col0\" >Nearest_Neighbors</td>\n",
              "                        <td id=\"T_8e90ffe2_5197_11eb_9deb_0242ac1c0002row0_col1\" class=\"data row0 col1\" >0.419549</td>\n",
              "                        <td id=\"T_8e90ffe2_5197_11eb_9deb_0242ac1c0002row0_col2\" class=\"data row0 col2\" >0.592223</td>\n",
              "            </tr>\n",
              "            <tr>\n",
              "                        <th id=\"T_8e90ffe2_5197_11eb_9deb_0242ac1c0002level0_row1\" class=\"row_heading level0 row1\" >1</th>\n",
              "                        <td id=\"T_8e90ffe2_5197_11eb_9deb_0242ac1c0002row1_col0\" class=\"data row1 col0\" >Linear_SVM</td>\n",
              "                        <td id=\"T_8e90ffe2_5197_11eb_9deb_0242ac1c0002row1_col1\" class=\"data row1 col1\" >0.368714</td>\n",
              "                        <td id=\"T_8e90ffe2_5197_11eb_9deb_0242ac1c0002row1_col2\" class=\"data row1 col2\" >0.589731</td>\n",
              "            </tr>\n",
              "            <tr>\n",
              "                        <th id=\"T_8e90ffe2_5197_11eb_9deb_0242ac1c0002level0_row2\" class=\"row_heading level0 row2\" >2</th>\n",
              "                        <td id=\"T_8e90ffe2_5197_11eb_9deb_0242ac1c0002row2_col0\" class=\"data row2 col0\" >Decision_Tree</td>\n",
              "                        <td id=\"T_8e90ffe2_5197_11eb_9deb_0242ac1c0002row2_col1\" class=\"data row2 col1\" >0.718008</td>\n",
              "                        <td id=\"T_8e90ffe2_5197_11eb_9deb_0242ac1c0002row2_col2\" class=\"data row2 col2\" >0.622134</td>\n",
              "            </tr>\n",
              "            <tr>\n",
              "                        <th id=\"T_8e90ffe2_5197_11eb_9deb_0242ac1c0002level0_row3\" class=\"row_heading level0 row3\" >3</th>\n",
              "                        <td id=\"T_8e90ffe2_5197_11eb_9deb_0242ac1c0002row3_col0\" class=\"data row3 col0\" >Random_Forest</td>\n",
              "                        <td id=\"T_8e90ffe2_5197_11eb_9deb_0242ac1c0002row3_col1\" class=\"data row3 col1\" >0.766143</td>\n",
              "                        <td id=\"T_8e90ffe2_5197_11eb_9deb_0242ac1c0002row3_col2\" class=\"data row3 col2\" >0.678714</td>\n",
              "            </tr>\n",
              "    </tbody></table>"
            ],
            "text/plain": [
              "<pandas.io.formats.style.Styler at 0x7fa6102b1518>"
            ]
          },
          "metadata": {
            "tags": []
          },
          "execution_count": 24
        }
      ]
    },
    {
      "cell_type": "code",
      "metadata": {
        "colab": {
          "base_uri": "https://localhost:8080/",
          "height": 285
        },
        "id": "bJBx-19faYjh",
        "outputId": "54bdaa63-b22e-4917-8ce3-7974497f277f"
      },
      "source": [
        "sns.set(style=\"whitegrid\")\n",
        "ax1 = sns.barplot(y=\"name\", x=\"f1_score\", data=results)"
      ],
      "execution_count": 25,
      "outputs": [
        {
          "output_type": "display_data",
          "data": {
            "image/png": "[encoded data removed]",
            "text/plain": [
              "<Figure size 432x288 with 1 Axes>"
            ]
          },
          "metadata": {
            "tags": []
          }
        }
      ]
    },
    {
      "cell_type": "code",
      "metadata": {
        "colab": {
          "base_uri": "https://localhost:8080/",
          "height": 285
        },
        "id": "fazbAYw_aYji",
        "outputId": "c94a70b4-3d70-4871-cebe-53532569cfa0"
      },
      "source": [
        "sns.set(style=\"whitegrid\")\n",
        "ax1 = sns.barplot(y=\"name\", x=\"accuracy_score\", data=results)"
      ],
      "execution_count": 26,
      "outputs": [
        {
          "output_type": "display_data",
          "data": {
            "image/png": "[encoded data removed]",
            "text/plain": [
              "<Figure size 432x288 with 1 Axes>"
            ]
          },
          "metadata": {
            "tags": []
          }
        }
      ]
    },
    {
      "cell_type": "markdown",
      "metadata": {
        "id": "-rTiht2naYji"
      },
      "source": [
        "Bu grafikler sonucunda, kazanan tahmini probleminde seçmemiz gereken yöntem *Random_Forest_Classifier*."
      ]
    },
    {
      "cell_type": "code",
      "metadata": {
        "colab": {
          "base_uri": "https://localhost:8080/",
          "height": 472
        },
        "id": "WriokR1PaYji",
        "outputId": "ba188c31-462c-4044-877a-cdfe1efdcc46"
      },
      "source": [
        "tree_clf = DecisionTreeClassifier().fit(x_train, y_train)\n",
        "print(classification_report(y_true=y_test, y_pred=tree_clf.predict(x_test)))\n",
        "plot_confusion_matrix(tree_clf, x_test, y_test)"
      ],
      "execution_count": 27,
      "outputs": [
        {
          "output_type": "stream",
          "text": [
            "              precision    recall  f1-score   support\n",
            "\n",
            "       black       0.59      0.57      0.58      1821\n",
            "        draw       0.93      0.95      0.94       186\n",
            "       white       0.62      0.64      0.63      2005\n",
            "\n",
            "    accuracy                           0.62      4012\n",
            "   macro avg       0.71      0.72      0.72      4012\n",
            "weighted avg       0.62      0.62      0.62      4012\n",
            "\n"
          ],
          "name": "stdout"
        },
        {
          "output_type": "execute_result",
          "data": {
            "text/plain": [
              "<sklearn.metrics._plot.confusion_matrix.ConfusionMatrixDisplay at 0x7fa6102fe8d0>"
            ]
          },
          "metadata": {
            "tags": []
          },
          "execution_count": 27
        },
        {
          "output_type": "display_data",
          "data": {
            "image/png": "[encoded data removed]",
            "text/plain": [
              "<Figure size 432x288 with 2 Axes>"
            ]
          },
          "metadata": {
            "tags": []
          }
        }
      ]
    },
    {
      "cell_type": "markdown",
      "metadata": {
        "id": "VcL5DI9EaYjj"
      },
      "source": [
        "## Kaynaklar\n",
        "- https://www.kaggle.com/nelver/lichess-predicting-a-winner/comments\n",
        "- https://www.datasciencearth.com/python-uygulamasi-ile-karar-agaclari/\n",
        "- https://github.com/dataprofessor/code/blob/master/python/comparing-classifiers.ipynb\n",
        "- https://www.kaggle.com/atdata/lichess-chess-games-dataset-eda-using-python\n",
        "- https://www.kaggle.com/jeffd23/10-classifier-showdown-in-scikit-learn"
      ]
    },
    {
      "cell_type": "code",
      "metadata": {
        "id": "CopCkyXRaYjj"
      },
      "source": [
        ""
      ],
      "execution_count": 27,
      "outputs": []
    }
  ]
}